{
 "cells": [
  {
   "cell_type": "code",
   "execution_count": 1,
   "metadata": {},
   "outputs": [],
   "source": [
    "import torch\n",
    "import torch.nn as nn\n",
    "import torch.optim as optim\n",
    "import torchvision\n",
    "import torchvision.transforms as transforms\n",
    "import torchvision.models as models\n",
    "import os\n",
    "import shutil\n",
    "import time\n",
    "import pandas as pd\n",
    "import random"
   ]
  },
  {
   "cell_type": "code",
   "execution_count": 2,
   "metadata": {},
   "outputs": [],
   "source": [
    "data_dir = './data/dog-breed-identification'  # original data set\n",
    "label_file, train_dir, test_dir = 'labels.csv', 'train', 'test'\n",
    "new_data_dir = './data/train_valid'  # processed data set\n",
    "valid_ratio = 0.1  # the ratio of the validation set\n",
    "# set random seed\n",
    "random.seed(0)\n",
    "torch.manual_seed(0)\n",
    "torch.cuda.manual_seed(0)\n",
    "\n",
    "def mkdir_if_not_exist(path):\n",
    "    if not os.path.exists(os.path.join(*path)):\n",
    "        os.makedirs(os.path.join(*path))\n",
    "        \n",
    "def reorg_dog_data(data_dir, label_file, train_dir, test_dir, new_data_dir, valid_ratio):\n",
    "    # extract the traing label\n",
    "    labels = pd.read_csv(os.path.join(data_dir, label_file))\n",
    "    id2label = {Id: label for Id, label in labels.values}  # (key: value): (id: label)\n",
    "\n",
    "    # shuffle the training set\n",
    "    train_files = os.listdir(os.path.join(data_dir, train_dir))\n",
    "    random.shuffle(train_files)    \n",
    "\n",
    "    # process and split the training set\n",
    "    valid_ds_size = int(len(train_files) * valid_ratio)  # size of the validation set\n",
    "    for i, file in enumerate(train_files):\n",
    "        img_id = file.split('.')[0]  # get the id of the image\n",
    "        img_label = id2label[img_id]\n",
    "        if i < valid_ds_size:\n",
    "            mkdir_if_not_exist([new_data_dir, 'valid', img_label])\n",
    "            shutil.copy(os.path.join(data_dir, train_dir, file),\n",
    "                        os.path.join(new_data_dir, 'valid', img_label))\n",
    "        else:\n",
    "            mkdir_if_not_exist([new_data_dir, 'train', img_label])\n",
    "            shutil.copy(os.path.join(data_dir, train_dir, file),\n",
    "                        os.path.join(new_data_dir, 'train', img_label))\n",
    "        \n",
    "reorg_dog_data(data_dir, label_file, train_dir, test_dir, new_data_dir, valid_ratio)"
   ]
  },
  {
   "cell_type": "code",
   "execution_count": null,
   "metadata": {},
   "outputs": [],
   "source": []
  }
 ],
 "metadata": {
  "kernelspec": {
   "display_name": "Python 3 (ipykernel)",
   "language": "python",
   "name": "python3"
  },
  "language_info": {
   "codemirror_mode": {
    "name": "ipython",
    "version": 3
   },
   "file_extension": ".py",
   "mimetype": "text/x-python",
   "name": "python",
   "nbconvert_exporter": "python",
   "pygments_lexer": "ipython3",
   "version": "3.7.10"
  }
 },
 "nbformat": 4,
 "nbformat_minor": 4
}
